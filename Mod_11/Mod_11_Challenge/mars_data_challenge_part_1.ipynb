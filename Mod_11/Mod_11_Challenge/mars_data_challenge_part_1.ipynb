{
 "cells": [
  {
   "cell_type": "markdown",
   "id": "f7a8616d",
   "metadata": {},
   "source": [
    "Deliverable 1: Web scraping Mars News"
   ]
  },
  {
   "cell_type": "code",
   "execution_count": 1,
   "id": "45fbb278",
   "metadata": {},
   "outputs": [],
   "source": [
    "# Import dependencies\n",
    "\n",
    "import pandas as pd\n",
    "from splinter import Browser\n",
    "from bs4 import BeautifulSoup as soup\n",
    "from webdriver_manager.chrome import ChromeDriverManager\n",
    "import json"
   ]
  },
  {
   "cell_type": "code",
   "execution_count": 2,
   "id": "28e1a0bc",
   "metadata": {},
   "outputs": [],
   "source": [
    "# Set up Splinter\n",
    "\n",
    "executable_path = {'executable_path': ChromeDriverManager().install()}\n",
    "browser = Browser('chrome', **executable_path, headless=False)"
   ]
  },
  {
   "cell_type": "code",
   "execution_count": 3,
   "id": "f178c229",
   "metadata": {},
   "outputs": [
    {
     "data": {
      "text/plain": [
       "True"
      ]
     },
     "execution_count": 3,
     "metadata": {},
     "output_type": "execute_result"
    }
   ],
   "source": [
    "# Visit the Mars NASA news site\n",
    "\n",
    "url = 'https://redplanetscience.com'\n",
    "browser.visit(url)\n",
    "\n",
    "# Optional delay for loading the page\n",
    "\n",
    "browser.is_element_present_by_css('div.list_text', wait_time=1)"
   ]
  },
  {
   "cell_type": "code",
   "execution_count": 4,
   "id": "d75e03a8",
   "metadata": {},
   "outputs": [],
   "source": [
    "# Parse the HTML and select all news articles\n",
    "\n",
    "html = browser.html\n",
    "news_soup = soup(html, 'html.parser')\n",
    "slide_elems = news_soup.select('div.list_text')"
   ]
  },
  {
   "cell_type": "code",
   "execution_count": 5,
   "id": "1e83fb39",
   "metadata": {},
   "outputs": [],
   "source": [
    "# Find and store all news article titles and preview texts\n",
    "\n",
    "news_list = []\n",
    "for elem in slide_elems:\n",
    "    # Use the parent element to find the news article title\n",
    "    title = elem.find('div', class_='content_title').text\n",
    "    # Use the parent element to find the paragraph text\n",
    "    preview = elem.find('div', class_='article_teaser_body').text\n",
    "    # Append each key-value pair to a list/dict\n",
    "    news_list.append({'title': title, 'preview': preview})"
   ]
  },
  {
   "cell_type": "code",
   "execution_count": 6,
   "id": "96a32334",
   "metadata": {
    "scrolled": true
   },
   "outputs": [
    {
     "name": "stdout",
     "output_type": "stream",
     "text": [
      "[{'title': 'The Man Who Wanted to Fly on Mars', 'preview': \"The Mars Helicopter is riding to the Red Planet this summer with NASA's Perseverance rover. The helicopter's chief engineer, Bob Balaram, shares the saga of how it came into being.\"}, {'title': \"NASA's Perseverance Rover 100 Days Out\", 'preview': \"Mark your calendars: The agency's latest rover has only about 8,640,000 seconds to go before it touches down on the Red Planet, becoming history's next Mars car.\"}, {'title': \"NASA's Mars 2020 Rover Closer to Getting Its Name\", 'preview': \"155 students from across the U.S. have been chosen as semifinalists in NASA's essay contest to name the Mars 2020 rover, and see it launch from Cape Canaveral this July.\"}, {'title': 'Mars 2020 Stands on Its Own Six Wheels', 'preview': \"In time-lapse video, taken at JPL, captures the first time NASA's Mars 2020 rover carries its full weight on its legs and wheels.\"}, {'title': 'Scientists Explore Outback as Testbed for Mars ', 'preview': \"Australia provides a great place for NASA's Mars 2020 and the ESA-Roscosmos ExoMars scientists to hone techniques in preparation for searching for signs ancient life on Mars.\"}, {'title': \"Virginia Middle School Student Earns Honor of Naming NASA's Next Mars Rover\", 'preview': 'NASA chose a seventh-grader from Virginia as winner of the agency\\'s \"Name the Rover\" essay contest. Alexander Mather\\'s entry for \"Perseverance\" was voted tops among 28,000 entries. '}, {'title': \"NASA's Curiosity Mars Rover Takes a New Selfie Before Record Climb\", 'preview': 'Along with capturing an image before its steepest ascent ever, the robotic explorer filmed its \"selfie stick,\" or robotic arm, in action.'}, {'title': 'Sensors on Mars 2020 Spacecraft Answer Long-Distance Call From Earth', 'preview': \"Instruments tailored to collect data during the descent of NASA's next rover through the Red Planet's atmosphere have been checked in flight.\"}, {'title': 'Mars Scientists Investigate Ancient Life in Australia', 'preview': \"Teams with NASA's Mars 2020 and ESA's ExoMars practiced hunting for fossilized microbial life in the Australian Outback in preparation for their Red Planet missions. \"}, {'title': \"NASA's Ingenuity Mars Helicopter Recharges Its Batteries in Flight\", 'preview': 'Headed to the Red Planet with the Perseverance rover, the pioneering helicopter is powered up for the first time in interplanetary space as part of a systems check.'}, {'title': \"NASA's Curiosity Mars Rover Snaps Its Highest-Resolution Panorama Yet\", 'preview': 'To go along with the stunning 1.8-billion-pixel image, a new video offers a sweeping view of the Red Planet.'}, {'title': \"Mars Helicopter Attached to NASA's Perseverance Rover\", 'preview': \"The team also fueled the rover's sky crane to get ready for this summer's history-making launch.\"}, {'title': \"NASA's Curiosity Keeps Rolling As Team Operates Rover From Home\", 'preview': 'The team has learned to meet new challenges as they work remotely on the Mars mission.'}, {'title': \"InSight's 'Mole' Team Peers into the Pit\", 'preview': 'Efforts to save the heat probe continue.'}, {'title': \"A Martian Roundtrip: NASA's Perseverance Rover Sample Tubes\", 'preview': \"Marvels of engineering, the rover's sample tubes must be tough enough to safely bring Red Planet samples on the long journey back to Earth in immaculate condition. \"}]\n"
     ]
    }
   ],
   "source": [
    "print(news_list)"
   ]
  },
  {
   "cell_type": "code",
   "execution_count": 7,
   "id": "03688c26",
   "metadata": {},
   "outputs": [],
   "source": [
    "# Save to JSON\n",
    "\n",
    "final = json.dumps(news_list)\n",
    "with open('mars_news.json', 'w') as f:\n",
    "    json.dump(final, f)"
   ]
  },
  {
   "cell_type": "code",
   "execution_count": 8,
   "id": "9873ac33",
   "metadata": {
    "scrolled": true
   },
   "outputs": [
    {
     "name": "stdout",
     "output_type": "stream",
     "text": [
      "[{\"title\": \"The Man Who Wanted to Fly on Mars\", \"preview\": \"The Mars Helicopter is riding to the Red Planet this summer with NASA's Perseverance rover. The helicopter's chief engineer, Bob Balaram, shares the saga of how it came into being.\"}, {\"title\": \"NASA's Perseverance Rover 100 Days Out\", \"preview\": \"Mark your calendars: The agency's latest rover has only about 8,640,000 seconds to go before it touches down on the Red Planet, becoming history's next Mars car.\"}, {\"title\": \"NASA's Mars 2020 Rover Closer to Getting Its Name\", \"preview\": \"155 students from across the U.S. have been chosen as semifinalists in NASA's essay contest to name the Mars 2020 rover, and see it launch from Cape Canaveral this July.\"}, {\"title\": \"Mars 2020 Stands on Its Own Six Wheels\", \"preview\": \"In time-lapse video, taken at JPL, captures the first time NASA's Mars 2020 rover carries its full weight on its legs and wheels.\"}, {\"title\": \"Scientists Explore Outback as Testbed for Mars \", \"preview\": \"Australia provides a great place for NASA's Mars 2020 and the ESA-Roscosmos ExoMars scientists to hone techniques in preparation for searching for signs ancient life on Mars.\"}, {\"title\": \"Virginia Middle School Student Earns Honor of Naming NASA's Next Mars Rover\", \"preview\": \"NASA chose a seventh-grader from Virginia as winner of the agency's \\\"Name the Rover\\\" essay contest. Alexander Mather's entry for \\\"Perseverance\\\" was voted tops among 28,000 entries. \"}, {\"title\": \"NASA's Curiosity Mars Rover Takes a New Selfie Before Record Climb\", \"preview\": \"Along with capturing an image before its steepest ascent ever, the robotic explorer filmed its \\\"selfie stick,\\\" or robotic arm, in action.\"}, {\"title\": \"Sensors on Mars 2020 Spacecraft Answer Long-Distance Call From Earth\", \"preview\": \"Instruments tailored to collect data during the descent of NASA's next rover through the Red Planet's atmosphere have been checked in flight.\"}, {\"title\": \"Mars Scientists Investigate Ancient Life in Australia\", \"preview\": \"Teams with NASA's Mars 2020 and ESA's ExoMars practiced hunting for fossilized microbial life in the Australian Outback in preparation for their Red Planet missions. \"}, {\"title\": \"NASA's Ingenuity Mars Helicopter Recharges Its Batteries in Flight\", \"preview\": \"Headed to the Red Planet with the Perseverance rover, the pioneering helicopter is powered up for the first time in interplanetary space as part of a systems check.\"}, {\"title\": \"NASA's Curiosity Mars Rover Snaps Its Highest-Resolution Panorama Yet\", \"preview\": \"To go along with the stunning 1.8-billion-pixel image, a new video offers a sweeping view of the Red Planet.\"}, {\"title\": \"Mars Helicopter Attached to NASA's Perseverance Rover\", \"preview\": \"The team also fueled the rover's sky crane to get ready for this summer's history-making launch.\"}, {\"title\": \"NASA's Curiosity Keeps Rolling As Team Operates Rover From Home\", \"preview\": \"The team has learned to meet new challenges as they work remotely on the Mars mission.\"}, {\"title\": \"InSight's 'Mole' Team Peers into the Pit\", \"preview\": \"Efforts to save the heat probe continue.\"}, {\"title\": \"A Martian Roundtrip: NASA's Perseverance Rover Sample Tubes\", \"preview\": \"Marvels of engineering, the rover's sample tubes must be tough enough to safely bring Red Planet samples on the long journey back to Earth in immaculate condition. \"}]\n"
     ]
    }
   ],
   "source": [
    "print(final)"
   ]
  },
  {
   "cell_type": "code",
   "execution_count": 9,
   "id": "6fa0afd3",
   "metadata": {},
   "outputs": [],
   "source": [
    "# Convert to JSON format\n",
    "\n",
    "final = json.dumps(news_list,indent=2)"
   ]
  },
  {
   "cell_type": "code",
   "execution_count": 10,
   "id": "7ee1e13d",
   "metadata": {},
   "outputs": [
    {
     "name": "stdout",
     "output_type": "stream",
     "text": [
      "[\n",
      "  {\n",
      "    \"title\": \"The Man Who Wanted to Fly on Mars\",\n",
      "    \"preview\": \"The Mars Helicopter is riding to the Red Planet this summer with NASA's Perseverance rover. The helicopter's chief engineer, Bob Balaram, shares the saga of how it came into being.\"\n",
      "  },\n",
      "  {\n",
      "    \"title\": \"NASA's Perseverance Rover 100 Days Out\",\n",
      "    \"preview\": \"Mark your calendars: The agency's latest rover has only about 8,640,000 seconds to go before it touches down on the Red Planet, becoming history's next Mars car.\"\n",
      "  },\n",
      "  {\n",
      "    \"title\": \"NASA's Mars 2020 Rover Closer to Getting Its Name\",\n",
      "    \"preview\": \"155 students from across the U.S. have been chosen as semifinalists in NASA's essay contest to name the Mars 2020 rover, and see it launch from Cape Canaveral this July.\"\n",
      "  },\n",
      "  {\n",
      "    \"title\": \"Mars 2020 Stands on Its Own Six Wheels\",\n",
      "    \"preview\": \"In time-lapse video, taken at JPL, captures the first time NASA's Mars 2020 rover carries its full weight on its legs and wheels.\"\n",
      "  },\n",
      "  {\n",
      "    \"title\": \"Scientists Explore Outback as Testbed for Mars \",\n",
      "    \"preview\": \"Australia provides a great place for NASA's Mars 2020 and the ESA-Roscosmos ExoMars scientists to hone techniques in preparation for searching for signs ancient life on Mars.\"\n",
      "  },\n",
      "  {\n",
      "    \"title\": \"Virginia Middle School Student Earns Honor of Naming NASA's Next Mars Rover\",\n",
      "    \"preview\": \"NASA chose a seventh-grader from Virginia as winner of the agency's \\\"Name the Rover\\\" essay contest. Alexander Mather's entry for \\\"Perseverance\\\" was voted tops among 28,000 entries. \"\n",
      "  },\n",
      "  {\n",
      "    \"title\": \"NASA's Curiosity Mars Rover Takes a New Selfie Before Record Climb\",\n",
      "    \"preview\": \"Along with capturing an image before its steepest ascent ever, the robotic explorer filmed its \\\"selfie stick,\\\" or robotic arm, in action.\"\n",
      "  },\n",
      "  {\n",
      "    \"title\": \"Sensors on Mars 2020 Spacecraft Answer Long-Distance Call From Earth\",\n",
      "    \"preview\": \"Instruments tailored to collect data during the descent of NASA's next rover through the Red Planet's atmosphere have been checked in flight.\"\n",
      "  },\n",
      "  {\n",
      "    \"title\": \"Mars Scientists Investigate Ancient Life in Australia\",\n",
      "    \"preview\": \"Teams with NASA's Mars 2020 and ESA's ExoMars practiced hunting for fossilized microbial life in the Australian Outback in preparation for their Red Planet missions. \"\n",
      "  },\n",
      "  {\n",
      "    \"title\": \"NASA's Ingenuity Mars Helicopter Recharges Its Batteries in Flight\",\n",
      "    \"preview\": \"Headed to the Red Planet with the Perseverance rover, the pioneering helicopter is powered up for the first time in interplanetary space as part of a systems check.\"\n",
      "  },\n",
      "  {\n",
      "    \"title\": \"NASA's Curiosity Mars Rover Snaps Its Highest-Resolution Panorama Yet\",\n",
      "    \"preview\": \"To go along with the stunning 1.8-billion-pixel image, a new video offers a sweeping view of the Red Planet.\"\n",
      "  },\n",
      "  {\n",
      "    \"title\": \"Mars Helicopter Attached to NASA's Perseverance Rover\",\n",
      "    \"preview\": \"The team also fueled the rover's sky crane to get ready for this summer's history-making launch.\"\n",
      "  },\n",
      "  {\n",
      "    \"title\": \"NASA's Curiosity Keeps Rolling As Team Operates Rover From Home\",\n",
      "    \"preview\": \"The team has learned to meet new challenges as they work remotely on the Mars mission.\"\n",
      "  },\n",
      "  {\n",
      "    \"title\": \"InSight's 'Mole' Team Peers into the Pit\",\n",
      "    \"preview\": \"Efforts to save the heat probe continue.\"\n",
      "  },\n",
      "  {\n",
      "    \"title\": \"A Martian Roundtrip: NASA's Perseverance Rover Sample Tubes\",\n",
      "    \"preview\": \"Marvels of engineering, the rover's sample tubes must be tough enough to safely bring Red Planet samples on the long journey back to Earth in immaculate condition. \"\n",
      "  }\n",
      "]\n"
     ]
    }
   ],
   "source": [
    "print(final)"
   ]
  },
  {
   "cell_type": "code",
   "execution_count": 11,
   "id": "54a85b06",
   "metadata": {},
   "outputs": [],
   "source": [
    "browser.quit()"
   ]
  }
 ],
 "metadata": {
  "kernelspec": {
   "display_name": "webscraping",
   "language": "python",
   "name": "webscraping"
  },
  "language_info": {
   "codemirror_mode": {
    "name": "ipython",
    "version": 3
   },
   "file_extension": ".py",
   "mimetype": "text/x-python",
   "name": "python",
   "nbconvert_exporter": "python",
   "pygments_lexer": "ipython3",
   "version": "3.10.6"
  }
 },
 "nbformat": 4,
 "nbformat_minor": 5
}
