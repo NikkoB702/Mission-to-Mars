{
 "cells": [
  {
   "cell_type": "markdown",
   "id": "b305ee31",
   "metadata": {},
   "source": [
    "Deliverable 1: Web scraping Mars News"
   ]
  },
  {
   "cell_type": "code",
   "execution_count": 11,
   "id": "2ade78a0",
   "metadata": {},
   "outputs": [],
   "source": [
    "import pandas as pd\n",
    "from splinter import Browser\n",
    "from bs4 import BeautifulSoup as soup\n",
    "from webdriver_manager.chrome import ChromeDriverManager\n",
    "import json"
   ]
  },
  {
   "cell_type": "code",
   "execution_count": 2,
   "id": "b37c114a",
   "metadata": {},
   "outputs": [
    {
     "name": "stderr",
     "output_type": "stream",
     "text": [
      "[WDM] - Downloading: 100%|████████████████████████████████████████████████████████| 6.46M/6.46M [00:00<00:00, 46.8MB/s]\n"
     ]
    }
   ],
   "source": [
    "# Set up Splinter\n",
    "executable_path = {'executable_path': ChromeDriverManager().install()}\n",
    "browser = Browser('chrome', **executable_path, headless=False)"
   ]
  },
  {
   "cell_type": "code",
   "execution_count": 3,
   "id": "9193ec04",
   "metadata": {},
   "outputs": [
    {
     "data": {
      "text/plain": [
       "True"
      ]
     },
     "execution_count": 3,
     "metadata": {},
     "output_type": "execute_result"
    }
   ],
   "source": [
    "# Visit the Mars NASA news site\n",
    "url = 'https://redplanetscience.com'\n",
    "browser.visit(url)\n",
    "# Optional delay for loading the page\n",
    "browser.is_element_present_by_css('div.list_text', wait_time=1)"
   ]
  },
  {
   "cell_type": "code",
   "execution_count": 4,
   "id": "388db423",
   "metadata": {},
   "outputs": [],
   "source": [
    "# Parse the HTML and select all news articles\n",
    "html = browser.html\n",
    "news_soup = soup(html, 'html.parser')\n",
    "slide_elems = news_soup.select('div.list_text')"
   ]
  },
  {
   "cell_type": "code",
   "execution_count": 5,
   "id": "59f60680",
   "metadata": {},
   "outputs": [],
   "source": [
    "# Find and store all news article titles and preview texts\n",
    "news_list = []\n",
    "for elem in slide_elems:\n",
    "    # Use the parent element to find the news article title\n",
    "    title = elem.find('div', class_='content_title').text\n",
    "    # Use the parent element to find the paragraph text\n",
    "    preview = elem.find('div', class_='article_teaser_body').text\n",
    "    # Append each key-value pair to a list/dict\n",
    "    news_list.append({'title': title, 'preview': preview})"
   ]
  },
  {
   "cell_type": "code",
   "execution_count": 9,
   "id": "928a03fe",
   "metadata": {},
   "outputs": [],
   "source": [
    "\n",
    "browser.quit()"
   ]
  },
  {
   "cell_type": "code",
   "execution_count": 10,
   "id": "961537df",
   "metadata": {
    "scrolled": true
   },
   "outputs": [
    {
     "name": "stdout",
     "output_type": "stream",
     "text": [
      "[{'title': \"Robotic Toolkit Added to NASA's Mars 2020 Rover\", 'preview': \"The bit carousel, which lies at the heart of the rover's Sample Caching System, is now aboard NASA's newest rover. \"}, {'title': \"NASA's Mars 2020 Heads Into the Test Chamber\", 'preview': 'In this time-lapse video taken at JPL, engineers move the Mars 2020 rover into a large vacuum chamber for testing in Mars-like environmental conditions.'}, {'title': \"Q&A with the Student Who Named Ingenuity, NASA's Mars Helicopter\", 'preview': 'As a longtime fan of space exploration, Vaneeza Rupani appreciates the creativity and collaboration involved with trying to fly on another planet.'}, {'title': 'Mars Is Getting a New Robotic Meteorologist', 'preview': \"Sensors on NASA's Perseverance will help prepare for future human exploration by taking weather measurements and studying dust particles.\"}, {'title': 'Join NASA for the Launch of the Mars 2020 Perseverance Rover', 'preview': 'No matter where you live, choose from a menu of activities to join NASA as we \"Countdown to Mars\" and launch the Perseverance rover to the Red Planet.'}, {'title': \"NASA's Mars 2020 Rover Goes Coast-to-Coast to Prep for Launch\", 'preview': \"The agency's first step in returning rocks from Mars just arrived at Kennedy Space Center. The Mars 2020 team now begins readying for a launch to the Red Planet this July.\"}, {'title': \"NASA's Mars 2020 Will Hunt for Microscopic Fossils\", 'preview': \"A new paper identifies a ring of minerals at the rover's landing site that are ideal for fossilizing microbial life.\"}, {'title': 'NASA to Reveal Name of Its Next Mars Rover', 'preview': \"After a months-long contest among students to name NASA's newest Mars rover, the agency will reveal the winning name — and the winning student — this Thursday. \"}, {'title': 'Naming a NASA Mars Rover Can Change Your Life', 'preview': 'Want to name the robotic scientist NASA is sending to Mars in 2020? The student who named Curiosity — the rover currently exploring Mars — will tell you this is an opportunity worth taking.'}, {'title': \"NASA's Perseverance Rover Goes Through Trials by Fire, Ice, Light and Sound\", 'preview': \"The agency's new Mars rover is put through a series of tests in vacuum chambers, acoustic chambers and more to get ready for the Red Planet.\"}, {'title': \"NASA's Treasure Map for Water Ice on Mars\", 'preview': 'A new study identifies frozen water just below the Martian surface, where astronauts could easily dig it up.'}, {'title': 'NASA Mars Mission Connects With Bosnian and Herzegovinian Town', 'preview': 'A letter from NASA was presented to the mayor of Jezero, Bosnia-Herzegovina, honoring the connection between the town and Jezero Crater, the Mars 2020 rover landing site.'}, {'title': 'Sensors on Mars 2020 Spacecraft Answer Long-Distance Call From Earth', 'preview': \"Instruments tailored to collect data during the descent of NASA's next rover through the Red Planet's atmosphere have been checked in flight.\"}, {'title': 'Space History Is Made in This NASA Robot Factory', 'preview': \"From rockets to rovers, JPL's Spacecraft Assembly Facility has been at the center of robotic spaceflight. Here's a closer look at what makes it so special.\"}, {'title': \"NASA's Curiosity Takes Selfie With 'Mary Anning' on the Red Planet\", 'preview': 'The Mars rover has drilled three samples of rock in this clay-enriched region since arriving in July.'}]\n"
     ]
    }
   ],
   "source": [
    "print(news_list)"
   ]
  },
  {
   "cell_type": "code",
   "execution_count": 13,
   "id": "753ccc31",
   "metadata": {},
   "outputs": [],
   "source": [
    "final = json.dumps(news_list,indent=2)"
   ]
  },
  {
   "cell_type": "code",
   "execution_count": 14,
   "id": "7472da42",
   "metadata": {},
   "outputs": [
    {
     "name": "stdout",
     "output_type": "stream",
     "text": [
      "[\n",
      "  {\n",
      "    \"title\": \"Robotic Toolkit Added to NASA's Mars 2020 Rover\",\n",
      "    \"preview\": \"The bit carousel, which lies at the heart of the rover's Sample Caching System, is now aboard NASA's newest rover. \"\n",
      "  },\n",
      "  {\n",
      "    \"title\": \"NASA's Mars 2020 Heads Into the Test Chamber\",\n",
      "    \"preview\": \"In this time-lapse video taken at JPL, engineers move the Mars 2020 rover into a large vacuum chamber for testing in Mars-like environmental conditions.\"\n",
      "  },\n",
      "  {\n",
      "    \"title\": \"Q&A with the Student Who Named Ingenuity, NASA's Mars Helicopter\",\n",
      "    \"preview\": \"As a longtime fan of space exploration, Vaneeza Rupani appreciates the creativity and collaboration involved with trying to fly on another planet.\"\n",
      "  },\n",
      "  {\n",
      "    \"title\": \"Mars Is Getting a New Robotic Meteorologist\",\n",
      "    \"preview\": \"Sensors on NASA's Perseverance will help prepare for future human exploration by taking weather measurements and studying dust particles.\"\n",
      "  },\n",
      "  {\n",
      "    \"title\": \"Join NASA for the Launch of the Mars 2020 Perseverance Rover\",\n",
      "    \"preview\": \"No matter where you live, choose from a menu of activities to join NASA as we \\\"Countdown to Mars\\\" and launch the Perseverance rover to the Red Planet.\"\n",
      "  },\n",
      "  {\n",
      "    \"title\": \"NASA's Mars 2020 Rover Goes Coast-to-Coast to Prep for Launch\",\n",
      "    \"preview\": \"The agency's first step in returning rocks from Mars just arrived at Kennedy Space Center. The Mars 2020 team now begins readying for a launch to the Red Planet this July.\"\n",
      "  },\n",
      "  {\n",
      "    \"title\": \"NASA's Mars 2020 Will Hunt for Microscopic Fossils\",\n",
      "    \"preview\": \"A new paper identifies a ring of minerals at the rover's landing site that are ideal for fossilizing microbial life.\"\n",
      "  },\n",
      "  {\n",
      "    \"title\": \"NASA to Reveal Name of Its Next Mars Rover\",\n",
      "    \"preview\": \"After a months-long contest among students to name NASA's newest Mars rover, the agency will reveal the winning name \\u2014 and the winning student \\u2014 this Thursday. \"\n",
      "  },\n",
      "  {\n",
      "    \"title\": \"Naming a NASA Mars Rover Can Change Your Life\",\n",
      "    \"preview\": \"Want to name the robotic scientist NASA is sending to Mars in 2020? The student who named Curiosity \\u2014 the rover currently exploring Mars \\u2014 will tell you this is an opportunity worth taking.\"\n",
      "  },\n",
      "  {\n",
      "    \"title\": \"NASA's Perseverance Rover Goes Through Trials by Fire, Ice, Light and Sound\",\n",
      "    \"preview\": \"The agency's new Mars rover is put through a series of tests in vacuum chambers, acoustic chambers and more to get ready for the Red Planet.\"\n",
      "  },\n",
      "  {\n",
      "    \"title\": \"NASA's Treasure Map for Water Ice on Mars\",\n",
      "    \"preview\": \"A new study identifies frozen water just below the Martian surface, where astronauts could easily dig it up.\"\n",
      "  },\n",
      "  {\n",
      "    \"title\": \"NASA Mars Mission Connects With Bosnian and Herzegovinian Town\",\n",
      "    \"preview\": \"A letter from NASA was presented to the mayor of Jezero, Bosnia-Herzegovina, honoring the connection between the town and Jezero Crater, the Mars 2020 rover landing site.\"\n",
      "  },\n",
      "  {\n",
      "    \"title\": \"Sensors on Mars 2020 Spacecraft Answer Long-Distance Call From Earth\",\n",
      "    \"preview\": \"Instruments tailored to collect data during the descent of NASA's next rover through the Red Planet's atmosphere have been checked in flight.\"\n",
      "  },\n",
      "  {\n",
      "    \"title\": \"Space History Is Made in This NASA Robot Factory\",\n",
      "    \"preview\": \"From rockets to rovers, JPL's Spacecraft Assembly Facility has been at the center of robotic spaceflight. Here's a closer look at what makes it so special.\"\n",
      "  },\n",
      "  {\n",
      "    \"title\": \"NASA's Curiosity Takes Selfie With 'Mary Anning' on the Red Planet\",\n",
      "    \"preview\": \"The Mars rover has drilled three samples of rock in this clay-enriched region since arriving in July.\"\n",
      "  }\n",
      "]\n"
     ]
    }
   ],
   "source": [
    "print(final)"
   ]
  }
 ],
 "metadata": {
  "kernelspec": {
   "display_name": "webscraping",
   "language": "python",
   "name": "webscraping"
  },
  "language_info": {
   "codemirror_mode": {
    "name": "ipython",
    "version": 3
   },
   "file_extension": ".py",
   "mimetype": "text/x-python",
   "name": "python",
   "nbconvert_exporter": "python",
   "pygments_lexer": "ipython3",
   "version": "3.10.6"
  }
 },
 "nbformat": 4,
 "nbformat_minor": 5
}
