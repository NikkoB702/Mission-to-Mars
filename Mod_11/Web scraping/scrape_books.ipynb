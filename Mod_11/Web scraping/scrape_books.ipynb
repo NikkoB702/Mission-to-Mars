{
 "cells": [
  {
   "cell_type": "code",
   "execution_count": 1,
   "id": "8f6bc3b1",
   "metadata": {},
   "outputs": [],
   "source": [
    "from splinter import Browser\n",
    "from bs4 import BeautifulSoup as soup\n",
    "from webdriver_manager.chrome import ChromeDriverManager"
   ]
  },
  {
   "cell_type": "code",
   "execution_count": 2,
   "id": "f7881f1a",
   "metadata": {},
   "outputs": [],
   "source": [
    "# Set up Splinter\n",
    "executable_path = {'executable_path': ChromeDriverManager().install()}\n",
    "browser = Browser('chrome', **executable_path, headless=False)"
   ]
  },
  {
   "cell_type": "code",
   "execution_count": 3,
   "id": "b18befd8",
   "metadata": {},
   "outputs": [
    {
     "ename": "WebDriverException",
     "evalue": "Message: unknown error: net::ERR_NAME_NOT_RESOLVED\n  (Session info: chrome=107.0.5304.107)\nStacktrace:\nBacktrace:\n\tOrdinal0 [0x0024ACD3+2075859]\n\tOrdinal0 [0x001DEE61+1633889]\n\tOrdinal0 [0x000DB7BD+571325]\n\tOrdinal0 [0x000D7CD2+556242]\n\tOrdinal0 [0x000CEC5D+519261]\n\tOrdinal0 [0x000CFAEC+522988]\n\tOrdinal0 [0x000CEF27+519975]\n\tOrdinal0 [0x000CE2EB+516843]\n\tOrdinal0 [0x000CE231+516657]\n\tOrdinal0 [0x000CD0A3+512163]\n\tOrdinal0 [0x000CD5AD+513453]\n\tOrdinal0 [0x000DD0CE+577742]\n\tOrdinal0 [0x0013BC7D+965757]\n\tOrdinal0 [0x0012731C+881436]\n\tOrdinal0 [0x0013B56A+963946]\n\tOrdinal0 [0x00127136+880950]\n\tOrdinal0 [0x000FFEFD+720637]\n\tOrdinal0 [0x00100F3F+724799]\n\tGetHandleVerifier [0x004FEED2+2769538]\n\tGetHandleVerifier [0x004F0D95+2711877]\n\tGetHandleVerifier [0x002DA03A+521194]\n\tGetHandleVerifier [0x002D8DA0+516432]\n\tOrdinal0 [0x001E682C+1665068]\n\tOrdinal0 [0x001EB128+1683752]\n\tOrdinal0 [0x001EB215+1683989]\n\tOrdinal0 [0x001F6484+1729668]\n\tBaseThreadInitThunk [0x763EFEF9+25]\n\tRtlGetAppContainerNamedObjectPath [0x77E87BBE+286]\n\tRtlGetAppContainerNamedObjectPath [0x77E87B8E+238]\n\t(No symbol) [0x00000000]\n",
     "output_type": "error",
     "traceback": [
      "\u001b[1;31m---------------------------------------------------------------------------\u001b[0m",
      "\u001b[1;31mWebDriverException\u001b[0m                        Traceback (most recent call last)",
      "Cell \u001b[1;32mIn [3], line 2\u001b[0m\n\u001b[0;32m      1\u001b[0m url \u001b[38;5;241m=\u001b[39m \u001b[38;5;124m'\u001b[39m\u001b[38;5;124mhttp://http://books.toscrape.com//\u001b[39m\u001b[38;5;124m'\u001b[39m\n\u001b[1;32m----> 2\u001b[0m \u001b[43mbrowser\u001b[49m\u001b[38;5;241;43m.\u001b[39;49m\u001b[43mvisit\u001b[49m\u001b[43m(\u001b[49m\u001b[43murl\u001b[49m\u001b[43m)\u001b[49m\n\u001b[0;32m      3\u001b[0m html \u001b[38;5;241m=\u001b[39m browser\u001b[38;5;241m.\u001b[39mhtml\n\u001b[0;32m      4\u001b[0m quote_soup \u001b[38;5;241m=\u001b[39m soup(html, \u001b[38;5;124m'\u001b[39m\u001b[38;5;124mhtml.parser\u001b[39m\u001b[38;5;124m'\u001b[39m)\n",
      "File \u001b[1;32m~\\anaconda3\\envs\\webscraping\\lib\\site-packages\\splinter\\driver\\webdriver\\__init__.py:319\u001b[0m, in \u001b[0;36mBaseWebDriver.visit\u001b[1;34m(self, url)\u001b[0m\n\u001b[0;32m    318\u001b[0m \u001b[38;5;28;01mdef\u001b[39;00m \u001b[38;5;21mvisit\u001b[39m(\u001b[38;5;28mself\u001b[39m, url):\n\u001b[1;32m--> 319\u001b[0m     \u001b[38;5;28;43mself\u001b[39;49m\u001b[38;5;241;43m.\u001b[39;49m\u001b[43mdriver\u001b[49m\u001b[38;5;241;43m.\u001b[39;49m\u001b[43mget\u001b[49m\u001b[43m(\u001b[49m\u001b[43murl\u001b[49m\u001b[43m)\u001b[49m\n",
      "File \u001b[1;32m~\\anaconda3\\envs\\webscraping\\lib\\site-packages\\selenium\\webdriver\\remote\\webdriver.py:441\u001b[0m, in \u001b[0;36mWebDriver.get\u001b[1;34m(self, url)\u001b[0m\n\u001b[0;32m    437\u001b[0m \u001b[38;5;28;01mdef\u001b[39;00m \u001b[38;5;21mget\u001b[39m(\u001b[38;5;28mself\u001b[39m, url: \u001b[38;5;28mstr\u001b[39m) \u001b[38;5;241m-\u001b[39m\u001b[38;5;241m>\u001b[39m \u001b[38;5;28;01mNone\u001b[39;00m:\n\u001b[0;32m    438\u001b[0m     \u001b[38;5;124;03m\"\"\"\u001b[39;00m\n\u001b[0;32m    439\u001b[0m \u001b[38;5;124;03m    Loads a web page in the current browser session.\u001b[39;00m\n\u001b[0;32m    440\u001b[0m \u001b[38;5;124;03m    \"\"\"\u001b[39;00m\n\u001b[1;32m--> 441\u001b[0m     \u001b[38;5;28;43mself\u001b[39;49m\u001b[38;5;241;43m.\u001b[39;49m\u001b[43mexecute\u001b[49m\u001b[43m(\u001b[49m\u001b[43mCommand\u001b[49m\u001b[38;5;241;43m.\u001b[39;49m\u001b[43mGET\u001b[49m\u001b[43m,\u001b[49m\u001b[43m \u001b[49m\u001b[43m{\u001b[49m\u001b[38;5;124;43m'\u001b[39;49m\u001b[38;5;124;43murl\u001b[39;49m\u001b[38;5;124;43m'\u001b[39;49m\u001b[43m:\u001b[49m\u001b[43m \u001b[49m\u001b[43murl\u001b[49m\u001b[43m}\u001b[49m\u001b[43m)\u001b[49m\n",
      "File \u001b[1;32m~\\anaconda3\\envs\\webscraping\\lib\\site-packages\\selenium\\webdriver\\remote\\webdriver.py:429\u001b[0m, in \u001b[0;36mWebDriver.execute\u001b[1;34m(self, driver_command, params)\u001b[0m\n\u001b[0;32m    427\u001b[0m response \u001b[38;5;241m=\u001b[39m \u001b[38;5;28mself\u001b[39m\u001b[38;5;241m.\u001b[39mcommand_executor\u001b[38;5;241m.\u001b[39mexecute(driver_command, params)\n\u001b[0;32m    428\u001b[0m \u001b[38;5;28;01mif\u001b[39;00m response:\n\u001b[1;32m--> 429\u001b[0m     \u001b[38;5;28;43mself\u001b[39;49m\u001b[38;5;241;43m.\u001b[39;49m\u001b[43merror_handler\u001b[49m\u001b[38;5;241;43m.\u001b[39;49m\u001b[43mcheck_response\u001b[49m\u001b[43m(\u001b[49m\u001b[43mresponse\u001b[49m\u001b[43m)\u001b[49m\n\u001b[0;32m    430\u001b[0m     response[\u001b[38;5;124m'\u001b[39m\u001b[38;5;124mvalue\u001b[39m\u001b[38;5;124m'\u001b[39m] \u001b[38;5;241m=\u001b[39m \u001b[38;5;28mself\u001b[39m\u001b[38;5;241m.\u001b[39m_unwrap_value(\n\u001b[0;32m    431\u001b[0m         response\u001b[38;5;241m.\u001b[39mget(\u001b[38;5;124m'\u001b[39m\u001b[38;5;124mvalue\u001b[39m\u001b[38;5;124m'\u001b[39m, \u001b[38;5;28;01mNone\u001b[39;00m))\n\u001b[0;32m    432\u001b[0m     \u001b[38;5;28;01mreturn\u001b[39;00m response\n",
      "File \u001b[1;32m~\\anaconda3\\envs\\webscraping\\lib\\site-packages\\selenium\\webdriver\\remote\\errorhandler.py:243\u001b[0m, in \u001b[0;36mErrorHandler.check_response\u001b[1;34m(self, response)\u001b[0m\n\u001b[0;32m    241\u001b[0m         alert_text \u001b[38;5;241m=\u001b[39m value[\u001b[38;5;124m'\u001b[39m\u001b[38;5;124malert\u001b[39m\u001b[38;5;124m'\u001b[39m]\u001b[38;5;241m.\u001b[39mget(\u001b[38;5;124m'\u001b[39m\u001b[38;5;124mtext\u001b[39m\u001b[38;5;124m'\u001b[39m)\n\u001b[0;32m    242\u001b[0m     \u001b[38;5;28;01mraise\u001b[39;00m exception_class(message, screen, stacktrace, alert_text)  \u001b[38;5;66;03m# type: ignore[call-arg]  # mypy is not smart enough here\u001b[39;00m\n\u001b[1;32m--> 243\u001b[0m \u001b[38;5;28;01mraise\u001b[39;00m exception_class(message, screen, stacktrace)\n",
      "\u001b[1;31mWebDriverException\u001b[0m: Message: unknown error: net::ERR_NAME_NOT_RESOLVED\n  (Session info: chrome=107.0.5304.107)\nStacktrace:\nBacktrace:\n\tOrdinal0 [0x0024ACD3+2075859]\n\tOrdinal0 [0x001DEE61+1633889]\n\tOrdinal0 [0x000DB7BD+571325]\n\tOrdinal0 [0x000D7CD2+556242]\n\tOrdinal0 [0x000CEC5D+519261]\n\tOrdinal0 [0x000CFAEC+522988]\n\tOrdinal0 [0x000CEF27+519975]\n\tOrdinal0 [0x000CE2EB+516843]\n\tOrdinal0 [0x000CE231+516657]\n\tOrdinal0 [0x000CD0A3+512163]\n\tOrdinal0 [0x000CD5AD+513453]\n\tOrdinal0 [0x000DD0CE+577742]\n\tOrdinal0 [0x0013BC7D+965757]\n\tOrdinal0 [0x0012731C+881436]\n\tOrdinal0 [0x0013B56A+963946]\n\tOrdinal0 [0x00127136+880950]\n\tOrdinal0 [0x000FFEFD+720637]\n\tOrdinal0 [0x00100F3F+724799]\n\tGetHandleVerifier [0x004FEED2+2769538]\n\tGetHandleVerifier [0x004F0D95+2711877]\n\tGetHandleVerifier [0x002DA03A+521194]\n\tGetHandleVerifier [0x002D8DA0+516432]\n\tOrdinal0 [0x001E682C+1665068]\n\tOrdinal0 [0x001EB128+1683752]\n\tOrdinal0 [0x001EB215+1683989]\n\tOrdinal0 [0x001F6484+1729668]\n\tBaseThreadInitThunk [0x763EFEF9+25]\n\tRtlGetAppContainerNamedObjectPath [0x77E87BBE+286]\n\tRtlGetAppContainerNamedObjectPath [0x77E87B8E+238]\n\t(No symbol) [0x00000000]\n"
     ]
    }
   ],
   "source": [
    "url = 'http://http://books.toscrape.com//'\n",
    "browser.visit(url)\n",
    "html = browser.html\n",
    "quote_soup = soup(html, 'html.parser')"
   ]
  },
  {
   "cell_type": "code",
   "execution_count": 4,
   "id": "296604fe",
   "metadata": {},
   "outputs": [],
   "source": [
    "browser.quit()"
   ]
  }
 ],
 "metadata": {
  "kernelspec": {
   "display_name": "webscraping",
   "language": "python",
   "name": "webscraping"
  },
  "language_info": {
   "codemirror_mode": {
    "name": "ipython",
    "version": 3
   },
   "file_extension": ".py",
   "mimetype": "text/x-python",
   "name": "python",
   "nbconvert_exporter": "python",
   "pygments_lexer": "ipython3",
   "version": "3.10.6"
  }
 },
 "nbformat": 4,
 "nbformat_minor": 5
}
